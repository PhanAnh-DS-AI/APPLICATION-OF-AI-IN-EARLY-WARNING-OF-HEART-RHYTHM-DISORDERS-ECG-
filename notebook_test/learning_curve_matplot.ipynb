{
 "cells": [
  {
   "cell_type": "code",
   "execution_count": 17,
   "id": "ee44e82a",
   "metadata": {},
   "outputs": [
    {
     "name": "stdout",
     "output_type": "stream",
     "text": [
      "Train Tags: {'images': [], 'audio': [], 'histograms': [], 'scalars': [], 'distributions': [], 'tensors': ['keras', 'epoch_auc', 'epoch_loss', 'epoch_mae', 'epoch_rmse', 'epoch_learning_rate'], 'graph': True, 'meta_graph': False, 'run_metadata': []}\n",
      "Validation Tags: {'images': [], 'audio': [], 'histograms': [], 'scalars': [], 'distributions': [], 'tensors': ['evaluation_auc_vs_iterations', 'evaluation_loss_vs_iterations', 'evaluation_mae_vs_iterations', 'evaluation_rmse_vs_iterations', 'epoch_auc', 'epoch_loss', 'epoch_mae', 'epoch_rmse'], 'graph': False, 'meta_graph': False, 'run_metadata': []}\n"
     ]
    },
    {
     "ename": "AttributeError",
     "evalue": "'TensorEvent' object has no attribute 'tensor'",
     "output_type": "error",
     "traceback": [
      "\u001b[1;31m---------------------------------------------------------------------------\u001b[0m",
      "\u001b[1;31mAttributeError\u001b[0m                            Traceback (most recent call last)",
      "Cell \u001b[1;32mIn[17], line 27\u001b[0m\n\u001b[0;32m     25\u001b[0m \u001b[38;5;66;03m# Tách epoch và giá trị từ tensor\u001b[39;00m\n\u001b[0;32m     26\u001b[0m epochs_train \u001b[38;5;241m=\u001b[39m [e\u001b[38;5;241m.\u001b[39mstep \u001b[38;5;28;01mfor\u001b[39;00m e \u001b[38;5;129;01min\u001b[39;00m train_loss_tensor]\n\u001b[1;32m---> 27\u001b[0m loss_train \u001b[38;5;241m=\u001b[39m [\u001b[43me\u001b[49m\u001b[38;5;241;43m.\u001b[39;49m\u001b[43mtensor\u001b[49m[\u001b[38;5;241m0\u001b[39m] \u001b[38;5;28;01mfor\u001b[39;00m e \u001b[38;5;129;01min\u001b[39;00m train_loss_tensor]  \u001b[38;5;66;03m# Lấy giá trị đầu tiên trong tensor\u001b[39;00m\n\u001b[0;32m     28\u001b[0m mae_train \u001b[38;5;241m=\u001b[39m [e\u001b[38;5;241m.\u001b[39mtensor[\u001b[38;5;241m0\u001b[39m] \u001b[38;5;28;01mfor\u001b[39;00m e \u001b[38;5;129;01min\u001b[39;00m train_mae_tensor]\n\u001b[0;32m     29\u001b[0m rmse_train \u001b[38;5;241m=\u001b[39m [e\u001b[38;5;241m.\u001b[39mtensor[\u001b[38;5;241m0\u001b[39m] \u001b[38;5;28;01mfor\u001b[39;00m e \u001b[38;5;129;01min\u001b[39;00m train_rmse_tensor]\n",
      "\u001b[1;31mAttributeError\u001b[0m: 'TensorEvent' object has no attribute 'tensor'"
     ]
    }
   ],
   "source": [
    "from tensorboard.backend.event_processing import event_accumulator\n",
    "import matplotlib.pyplot as plt\n",
    "\n",
    "# Load log train\n",
    "ea_train = event_accumulator.EventAccumulator('D:/Coding/ECG/tensorboard_new_model_expv1/logs_customdata/tensorboard_logs/train/events.out.tfevents.1742522156.INTERN-PNANH-LA.24424.0.v2')\n",
    "ea_train.Reload()\n",
    "\n",
    "# Load log validation\n",
    "ea_val = event_accumulator.EventAccumulator('D:/Coding/ECG/tensorboard_new_model_expv1/logs_customdata/tensorboard_logs/validation/events.out.tfevents.1742522282.INTERN-PNANH-LA.24424.1.v2')\n",
    "ea_val.Reload()\n",
    "\n",
    "# In các tags để kiểm tra tên chính xác\n",
    "print(\"Train Tags:\", ea_train.Tags())\n",
    "print(\"Validation Tags:\", ea_val.Tags())\n",
    "\n",
    "# Lấy tensor loss, mae, rmse từ cả 2 log\n",
    "train_loss_tensor = ea_train.Tensors('epoch_loss')\n",
    "train_mae_tensor = ea_train.Tensors('epoch_mae')\n",
    "train_rmse_tensor = ea_train.Tensors('epoch_rmse')\n",
    "\n",
    "val_loss_tensor = ea_val.Tensors('evaluation_loss_vs_iterations')\n",
    "val_mae_tensor = ea_val.Tensors('evaluation_mae_vs_iterations')\n",
    "val_rmse_tensor = ea_val.Tensors('evaluation_rmse_vs_iterations')\n",
    "\n",
    "# Tách epoch và giá trị từ tensor\n",
    "epochs_train = [e.step for e in train_loss_tensor]\n",
    "loss_train = [e.tensor[0] for e in train_loss_tensor]  # Lấy giá trị đầu tiên trong tensor\n",
    "mae_train = [e.tensor[0] for e in train_mae_tensor]\n",
    "rmse_train = [e.tensor[0] for e in train_rmse_tensor]\n",
    "\n",
    "epochs_val = [e.step for e in val_loss_tensor]\n",
    "loss_val = [e.tensor[0] for e in val_loss_tensor]\n",
    "mae_val = [e.tensor[0] for e in val_mae_tensor]\n",
    "rmse_val = [e.tensor[0] for e in val_rmse_tensor]\n",
    "\n",
    "# Vẽ biểu đồ\n",
    "plt.figure(figsize=(10,6))\n",
    "\n",
    "# Loss\n",
    "plt.subplot(3, 1, 1)\n",
    "plt.plot(epochs_train, loss_train, marker='o', label='Train Loss')\n",
    "plt.plot(epochs_val, loss_val, marker='s', label='Validation Loss')\n",
    "plt.xlabel('Epoch', fontsize=12, fontweight='bold')\n",
    "plt.ylabel('Loss', fontsize=12, fontweight='bold')\n",
    "plt.title('Train vs Validation Loss', fontsize=14, fontweight='bold')\n",
    "plt.legend()\n",
    "plt.grid(True)\n",
    "\n",
    "# MAE\n",
    "plt.subplot(3, 1, 2)\n",
    "plt.plot(epochs_train, mae_train, marker='o', label='Train MAE')\n",
    "plt.plot(epochs_val, mae_val, marker='s', label='Validation MAE')\n",
    "plt.xlabel('Epoch', fontsize=12, fontweight='bold')\n",
    "plt.ylabel('MAE', fontsize=12, fontweight='bold')\n",
    "plt.title('Train vs Validation MAE', fontsize=14, fontweight='bold')\n",
    "plt.legend()\n",
    "plt.grid(True)\n",
    "\n",
    "# RMSE\n",
    "plt.subplot(3, 1, 3)\n",
    "plt.plot(epochs_train, rmse_train, marker='o', label='Train RMSE')\n",
    "plt.plot(epochs_val, rmse_val, marker='s', label='Validation RMSE')\n",
    "plt.xlabel('Epoch', fontsize=12, fontweight='bold')\n",
    "plt.ylabel('RMSE', fontsize=12, fontweight='bold')\n",
    "plt.title('Train vs Validation RMSE', fontsize=14, fontweight='bold')\n",
    "plt.legend()\n",
    "plt.grid(True)\n",
    "\n",
    "plt.tight_layout()\n",
    "plt.savefig('train_vs_val_loss_mae_rmse.png', dpi=300)\n",
    "plt.show()"
   ]
  },
  {
   "cell_type": "code",
   "execution_count": 16,
   "id": "22073146",
   "metadata": {},
   "outputs": [
    {
     "name": "stdout",
     "output_type": "stream",
     "text": [
      "Train Tags: {'images': [], 'audio': [], 'histograms': [], 'scalars': [], 'distributions': [], 'tensors': ['keras', 'epoch_auc', 'epoch_loss', 'epoch_mae', 'epoch_rmse', 'epoch_learning_rate'], 'graph': True, 'meta_graph': False, 'run_metadata': []}\n",
      "Validation Tags: {'images': [], 'audio': [], 'histograms': [], 'scalars': [], 'distributions': [], 'tensors': ['evaluation_auc_vs_iterations', 'evaluation_loss_vs_iterations', 'evaluation_mae_vs_iterations', 'evaluation_rmse_vs_iterations', 'epoch_auc', 'epoch_loss', 'epoch_mae', 'epoch_rmse'], 'graph': False, 'meta_graph': False, 'run_metadata': []}\n",
      "'epoch_loss' không tồn tại trong train logs\n",
      "'epoch_mae' không tồn tại trong train logs\n",
      "'epoch_rmse' không tồn tại trong train logs\n",
      "'evaluation_loss_vs_iterations' không tồn tại trong validation logs\n",
      "'evaluation_mae_vs_iterations' không tồn tại trong validation logs\n",
      "'evaluation_rmse_vs_iterations' không tồn tại trong validation logs\n"
     ]
    }
   ],
   "source": [
    "# In các tag để kiểm tra\n",
    "print(\"Train Tags:\", ea_train.Tags())\n",
    "print(\"Validation Tags:\", ea_val.Tags())\n",
    "\n",
    "# Kiểm tra nếu tag tồn tại, nếu không in thông báo\n",
    "if 'epoch_loss' in ea_train.Tags()['scalars']:\n",
    "    train_loss_events = ea_train.Scalars('epoch_loss')\n",
    "else:\n",
    "    print(\"'epoch_loss' không tồn tại trong train logs\")\n",
    "\n",
    "if 'epoch_mae' in ea_train.Tags()['scalars']:\n",
    "    train_mae_events = ea_train.Scalars('epoch_mae')\n",
    "else:\n",
    "    print(\"'epoch_mae' không tồn tại trong train logs\")\n",
    "\n",
    "if 'epoch_rmse' in ea_train.Tags()['scalars']:\n",
    "    train_rmse_events = ea_train.Scalars('epoch_rmse')\n",
    "else:\n",
    "    print(\"'epoch_rmse' không tồn tại trong train logs\")\n",
    "\n",
    "if 'evaluation_loss_vs_iterations' in ea_val.Tags()['scalars']:\n",
    "    val_loss_events = ea_val.Scalars('evaluation_loss_vs_iterations')\n",
    "else:\n",
    "    print(\"'evaluation_loss_vs_iterations' không tồn tại trong validation logs\")\n",
    "\n",
    "if 'evaluation_mae_vs_iterations' in ea_val.Tags()['scalars']:\n",
    "    val_mae_events = ea_val.Scalars('evaluation_mae_vs_iterations')\n",
    "else:\n",
    "    print(\"'evaluation_mae_vs_iterations' không tồn tại trong validation logs\")\n",
    "\n",
    "if 'evaluation_rmse_vs_iterations' in ea_val.Tags()['scalars']:\n",
    "    val_rmse_events = ea_val.Scalars('evaluation_rmse_vs_iterations')\n",
    "else:\n",
    "    print(\"'evaluation_rmse_vs_iterations' không tồn tại trong validation logs\")\n"
   ]
  }
 ],
 "metadata": {
  "kernelspec": {
   "display_name": "Python 3",
   "language": "python",
   "name": "python3"
  },
  "language_info": {
   "codemirror_mode": {
    "name": "ipython",
    "version": 3
   },
   "file_extension": ".py",
   "mimetype": "text/x-python",
   "name": "python",
   "nbconvert_exporter": "python",
   "pygments_lexer": "ipython3",
   "version": "3.12.5"
  }
 },
 "nbformat": 4,
 "nbformat_minor": 5
}
